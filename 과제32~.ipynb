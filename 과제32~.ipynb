{
  "cells": [
    {
      "cell_type": "code",
      "execution_count": null,
      "metadata": {},
      "outputs": [],
      "source": [
        "#32 책대여하기\n",
        "from datetime import date\n",
        "\n",
        "class Book:\n",
        "    def __init__(self, title, author, publish_year):\n",
        "        self.title = title\n",
        "        self.author = author\n",
        "        self.publish_year = publish_year\n",
        "\n",
        "    def get_years_since_publication(self):\n",
        "        current_year = date.today().year # date.today() -> datetime.date(2025, 7, 17)\n",
        "        return current_year - self.publish_year\n",
        "    \n",
        "book = Book('Demian', 'Herman Hesse', 1919)\n",
        "print(book.get_years_since_publication())"
      ]
    },
    {
      "cell_type": "code",
      "execution_count": null,
      "metadata": {},
      "outputs": [],
      "source": [
        "#33 책대여하기\n",
        "class Book():\n",
        "    def __init__(self, title, author):\n",
        "        self.title = title\n",
        "        self.author = author\n",
        "        self.is_rented = False\n",
        "\n",
        "    def __str__(self):\n",
        "        return f'{self.title}'\n",
        "    \n",
        "class Student():\n",
        "    def __init__(self, name, id):\n",
        "        self.name = name\n",
        "        self.id = id\n",
        "        self.rented_books = []\n",
        "\n",
        "    def rent_a_book(self, book):\n",
        "        if not book.is_rented:\n",
        "            book.is_rented = True\n",
        "            self.rented_books.append(book)\n",
        "            return f'{self.name}이/가 {book.title}를 빌려감'\n",
        "        else:\n",
        "            f'{book.title}은 이미 대여중'\n",
        "\n",
        "소나기 = Book('소나기', '황순원')\n",
        "은세 = Student('은세', '1308')\n",
        "\n",
        "print(은세.rent_a_book(소나기))"
      ]
    },
    {
      "cell_type": "code",
      "execution_count": null,
      "metadata": {},
      "outputs": [],
      "source": [
        "#35 거리계산\n",
        "# 내 풀이\n",
        "\n",
        "import math as m\n",
        "\n",
        "class main:\n",
        "    def __init__(self,x_1,y_1,x_2,y_2):\n",
        "        self.x_1 = x_1\n",
        "        self.y_1 = y_1\n",
        "        self.x_2 = x_2\n",
        "        self.y_2 = y_2\n",
        "\n",
        "    def __str__(self):\n",
        "        return str(m.sqrt((self.x_1-self.x_2)**2 + (self.y_1-self.y_2)**2))\n",
        "x_1 = 1\n",
        "y_1 = 1\n",
        "\n",
        "x_2 = 0\n",
        "y_2 = 0\n",
        "\n",
        "result = main(x_1, y_1, x_2, y_2)\n",
        "\n",
        "print(result)\n",
        "\n",
        "# 쌤 풀이\n",
        "\n",
        "class Point:\n",
        "    def __init__(self, x,y):\n",
        "        self.x = x\n",
        "        self.y =y\n",
        "\n",
        "    def distance(self, v):\n",
        "        return m.sqrt((self.x - v.x)**2 + (self.y-v.y)**2)\n",
        "    \n",
        "p1 = Point(0, 0)\n",
        "p2 = Point(1, 1)\n",
        "\n",
        "print(p1.distance(p2))"
      ]
    },
    {
      "cell_type": "code",
      "execution_count": null,
      "metadata": {},
      "outputs": [],
      "source": [
        "#36 영화 예매\n",
        "# 내 풀이\n",
        "class main:\n",
        "    def __init__(self, remainig_seats):\n",
        "        self.remainig_seats = remainig_seats\n",
        "\n",
        "    def __str__(self):\n",
        "        if self.remainig_seats > 0:\n",
        "            self.remainig_seats = self.remainig_seats - 1\n",
        "            return \"Booking Granted\"\n",
        "        else:\n",
        "            return \"Sold Out\"\n",
        "            \n",
        "n=3\n",
        "print('스머프')\n",
        "스머프 = main(n)\n",
        "for _ in range(n+1):\n",
        "    print(스머프)\n",
        "\n",
        "m = 7\n",
        "print('인터스텔라')\n",
        "인터스텔라 = main(m)\n",
        "for _ in range(m+1):\n",
        "    print(인터스텔라)\n"
      ]
    },
    {
      "cell_type": "code",
      "execution_count": null,
      "metadata": {
        "colab": {
          "base_uri": "https://localhost:8080/"
        },
        "id": "pVn1JVpQ_km0",
        "outputId": "bcdc2bcc-1ea6-48ac-c10a-1835fe674246"
      },
      "outputs": [
        {
          "data": {
            "text/plain": [
              "55"
            ]
          },
          "execution_count": 2,
          "metadata": {},
          "output_type": "execute_result"
        }
      ],
      "source": [
        "# 44\n",
        "def sol(k):\n",
        "  if k == 1:\n",
        "    return 1\n",
        "  return sol(k-1) + k\n",
        "\n",
        "sol(10)"
      ]
    },
    {
      "cell_type": "code",
      "execution_count": null,
      "metadata": {
        "colab": {
          "base_uri": "https://localhost:8080/"
        },
        "id": "2a-kpTJMAfTd",
        "outputId": "6bdd7fa8-bdc3-4409-e06c-d0fc873d1faa"
      },
      "outputs": [
        {
          "data": {
            "text/plain": [
              "3628800"
            ]
          },
          "execution_count": 3,
          "metadata": {},
          "output_type": "execute_result"
        }
      ],
      "source": [
        "# 45\n",
        "def sol(k):\n",
        "  if k == 1:\n",
        "    return 1\n",
        "  return sol(k-1) * k\n",
        "\n",
        "sol(10)"
      ]
    },
    {
      "cell_type": "code",
      "execution_count": null,
      "metadata": {
        "colab": {
          "base_uri": "https://localhost:8080/"
        },
        "id": "DaUR9sdlAoFm",
        "outputId": "036a2fcc-9341-4192-d0e9-c3c6d3ec9911"
      },
      "outputs": [
        {
          "name": "stdout",
          "output_type": "stream",
          "text": [
            "10\n",
            "9\n",
            "8\n",
            "7\n",
            "6\n",
            "5\n",
            "4\n",
            "3\n",
            "2\n"
          ]
        },
        {
          "data": {
            "text/plain": [
              "1"
            ]
          },
          "execution_count": 9,
          "metadata": {},
          "output_type": "execute_result"
        }
      ],
      "source": [
        "# 46_1\n",
        "def sol(k):\n",
        "  if k == 1:\n",
        "    return 1\n",
        "  print(k)\n",
        "  return sol(k-1)\n",
        "\n",
        "sol(10)"
      ]
    },
    {
      "cell_type": "code",
      "execution_count": 7,
      "metadata": {
        "colab": {
          "base_uri": "https://localhost:8080/"
        },
        "id": "r8ugtkvrA9tF",
        "outputId": "be455792-b225-4b2c-8d3a-d97134e47c87"
      },
      "outputs": [
        {
          "name": "stdout",
          "output_type": "stream",
          "text": [
            "1\n",
            "2\n",
            "3\n",
            "4\n",
            "5\n",
            "None\n"
          ]
        }
      ],
      "source": [
        "# 46_2\n",
        "'''n = 10\n",
        "\n",
        "def sol(k):\n",
        "  if k == 0:\n",
        "    return n\n",
        "  print(n - k + 1)\n",
        "  return sol(k-1)\n",
        "\n",
        "print(sol(n))\n",
        "'''\n",
        "#쌤풀이\n",
        "n = 5\n",
        "def c_up(k):\n",
        "  if k < 1:\n",
        "    return\n",
        "  c_up(k-1)\n",
        "  print(k)\n",
        "\n",
        "print(c_up(n))"
      ]
    },
    {
      "cell_type": "code",
      "execution_count": 8,
      "metadata": {},
      "outputs": [
        {
          "data": {
            "text/plain": [
              "8"
            ]
          },
          "execution_count": 8,
          "metadata": {},
          "output_type": "execute_result"
        }
      ],
      "source": [
        "#47 fibo\n",
        "def sol(k):\n",
        "    if k == 1:\n",
        "        return 1\n",
        "    elif k == 2:\n",
        "        return 1\n",
        "    return sol(k-1) + sol(k-2)\n",
        "\n",
        "sol(6)"
      ]
    },
    {
      "cell_type": "code",
      "execution_count": 9,
      "metadata": {},
      "outputs": [
        {
          "data": {
            "text/plain": [
              "4"
            ]
          },
          "execution_count": 9,
          "metadata": {},
          "output_type": "execute_result"
        }
      ],
      "source": [
        "#48 tribo\n",
        "def sol(k):\n",
        "    if k == 1:\n",
        "        return 0\n",
        "    elif k == 2:\n",
        "        return 0\n",
        "    elif k == 3:\n",
        "        return 1\n",
        "    return sol(k-1) + sol(k-2) + sol(k-3)\n",
        "\n",
        "sol(6)"
      ]
    },
    {
      "cell_type": "code",
      "execution_count": null,
      "metadata": {},
      "outputs": [
        {
          "data": {
            "text/plain": [
              "8"
            ]
          },
          "execution_count": 21,
          "metadata": {},
          "output_type": "execute_result"
        }
      ],
      "source": [
        "#48 확장 n차 피보나치\n",
        "from functools import lru_cache\n",
        "\n",
        "def k_nacci(k, n):\n",
        "    @lru_cache(maxsize=None)\n",
        "    def f(m):\n",
        "        if m < k:\n",
        "            return 0\n",
        "        if m == k:\n",
        "            return 1\n",
        "        return sum(f(m - i) for i in range(1, k + 1))\n",
        "    return f(n + 1)\n",
        "\n",
        "k_nacci(2, 6)\n"
      ]
    },
    {
      "cell_type": "code",
      "execution_count": null,
      "metadata": {},
      "outputs": [],
      "source": [
        "#매개 변수와 전역 변수 의 재귀적 사용\n",
        "\n",
        "#매개 변수\n",
        "def f(k):\n",
        "    if  k == 0:\n",
        "        return\n",
        "    \n",
        "    f(k-1)\n",
        "\n",
        "#전역 변수\n",
        "n = 4\n",
        "def fd():\n",
        "    global n\n",
        "    if n == 0:\n",
        "        return\n",
        "    n=n-1\n",
        "    fd()"
      ]
    },
    {
      "cell_type": "code",
      "execution_count": null,
      "metadata": {},
      "outputs": [
        {
          "name": "stdout",
          "output_type": "stream",
          "text": [
            "*****"
          ]
        }
      ],
      "source": [
        "#49 n개의 문자를 한줄에\n",
        "def sol(k):\n",
        "    if k == 0:\n",
        "        return\n",
        "    print('*', end='')    \n",
        "    sol(k-1)\n",
        "sol(5)"
      ]
    },
    {
      "cell_type": "code",
      "execution_count": null,
      "metadata": {},
      "outputs": [
        {
          "name": "stdout",
          "output_type": "stream",
          "text": [
            "12345"
          ]
        }
      ],
      "source": [
        "#50 1~n까지 한줄 출력\n",
        "n = 5\n",
        "\n",
        "def sol(k):\n",
        "    global n\n",
        "    if k == 0:\n",
        "        return\n",
        "    print(n-k + 1, end='')\n",
        "    sol(k-1)\n",
        "\n",
        "sol(5)"
      ]
    },
    {
      "cell_type": "code",
      "execution_count": null,
      "metadata": {},
      "outputs": [
        {
          "name": "stdout",
          "output_type": "stream",
          "text": [
            "****"
          ]
        }
      ],
      "source": [
        "#51 n개 문자 출력(전역 변수)\n",
        "n = 4\n",
        "\n",
        "def sol():\n",
        "    global n\n",
        "    if n == 0:\n",
        "        return\n",
        "    n = n-1\n",
        "    print('*', end='')\n",
        "    sol()\n",
        "\n",
        "sol()\n"
      ]
    },
    {
      "cell_type": "code",
      "execution_count": 24,
      "metadata": {},
      "outputs": [
        {
          "name": "stdout",
          "output_type": "stream",
          "text": [
            "*\n",
            "**\n",
            "***\n",
            "****\n",
            "*****\n",
            "\n",
            "*\n",
            "**\n",
            "***\n",
            "****\n",
            "*****"
          ]
        }
      ],
      "source": [
        "#52 별삼각형(함수)\n",
        "def sol(k):\n",
        "    for i in range(1, k+1):\n",
        "        print('*'*i)\n",
        "sol(5)\n",
        "\n",
        "#52 별삼각형(함수) #쌤풀이\n",
        "def f(k):\n",
        "    for i in range(1, k + 1):\n",
        "        print()\n",
        "        for j in range(1, i + 1):\n",
        "            print('*', end='')\n",
        "f(5)"
      ]
    },
    {
      "cell_type": "code",
      "execution_count": 27,
      "metadata": {},
      "outputs": [
        {
          "name": "stdout",
          "output_type": "stream",
          "text": [
            "*\n",
            "**\n",
            "***\n",
            "****\n",
            "*****\n",
            "*\n",
            "**\n",
            "***\n",
            "****\n",
            "*****\n"
          ]
        }
      ],
      "source": [
        "#52 별삼각형(재귀)\n",
        "n = 5\n",
        "\n",
        "def sol(k):\n",
        "    global n\n",
        "    if k == 0:\n",
        "        return\n",
        "    print('*'*(n-k + 1))\n",
        "    sol(k-1)\n",
        "\n",
        "sol(5)\n",
        "\n",
        "# 모범 답안\n",
        "def ssol(k):\n",
        "  if k < 1:\n",
        "    return\n",
        "  ssol(k-1)\n",
        "  print('*'*k, end='')\n",
        "  print()\n",
        "\n",
        "ssol(5)"
      ]
    },
    {
      "cell_type": "code",
      "execution_count": null,
      "metadata": {},
      "outputs": [],
      "source": [
        "# 3D 정육면제 구현 걍 딴짓\n",
        "\n",
        "import math\n",
        "import time\n",
        "import os\n",
        "\n",
        "width, height = 80, 40\n",
        "\n",
        "angle_x = 0\n",
        "angle_y = 0\n",
        "\n",
        "cube_vertices = [\n",
        "    [-1, -1, -1],\n",
        "    [-1, -1,  1],\n",
        "    [-1,  1, -1],\n",
        "    [-1,  1,  1],\n",
        "    [ 1, -1, -1],\n",
        "    [ 1, -1,  1],\n",
        "    [ 1,  1, -1],\n",
        "    [ 1,  1,  1]\n",
        "]\n",
        "\n",
        "cube_edges = [\n",
        "    (0, 1), (0, 2), (0, 4),\n",
        "    (1, 3), (1, 5),\n",
        "    (2, 3), (2, 6),\n",
        "    (3, 7),\n",
        "    (4, 5), (4, 6),\n",
        "    (5, 7),\n",
        "    (6, 7)\n",
        "]\n",
        "\n",
        "while True:\n",
        "    os.system('cls' if os.name == 'nt' else 'clear')\n",
        "    screen = [[\" \" for _ in range(width)] for _ in range(height)]\n",
        "    \n",
        "    projected = []\n",
        "    for x, y, z in cube_vertices:\n",
        "        y_rot = y * math.cos(angle_x) - z * math.sin(angle_x)\n",
        "        z_rot = y * math.sin(angle_x) + z * math.cos(angle_x)\n",
        "        x_rot = x\n",
        "        x_rot2 = x_rot * math.cos(angle_y) + z_rot * math.sin(angle_y)\n",
        "        z_rot2 = -x_rot * math.sin(angle_y) + z_rot * math.cos(angle_y)\n",
        "        y_rot2 = y_rot\n",
        "        \n",
        "        fov = 1.5\n",
        "        distance = 4\n",
        "        factor = fov / (distance - z_rot2)\n",
        "        X = int(width / 2 + x_rot2 * factor * width / 2)\n",
        "        Y = int(height / 2 - y_rot2 * factor * height / 2)\n",
        "        projected.append((X, Y))\n",
        "    \n",
        "    for edge in cube_edges:\n",
        "        x1, y1 = projected[edge[0]]\n",
        "        x2, y2 = projected[edge[1]]\n",
        "        dx = x2 - x1\n",
        "        dy = y2 - y1\n",
        "        steps = max(abs(dx), abs(dy))\n",
        "        for i in range(steps + 1):\n",
        "            xi = int(x1 + dx * i / steps)\n",
        "            yi = int(y1 + dy * i / steps)\n",
        "            if 0 <= xi < width and 0 <= yi < height:\n",
        "                screen[yi][xi] = \"*\"\n",
        "    \n",
        "    for row in screen:\n",
        "        print(\"\".join(row))\n",
        "    \n",
        "    angle_x += 0.05\n",
        "    angle_y += 0.03\n",
        "    time.sleep(0.03)\n"
      ]
    },
    {
      "cell_type": "code",
      "execution_count": 8,
      "metadata": {},
      "outputs": [
        {
          "name": "stdout",
          "output_type": "stream",
          "text": [
            "*****\n",
            "****\n",
            "***\n",
            "**\n",
            "*\n"
          ]
        }
      ],
      "source": [
        "# 53 역 별삼각형\n",
        "def sol(k):\n",
        "    print('*'*k)\n",
        "    if k == 1:\n",
        "        return\n",
        "    sol(k-1)\n",
        "\n",
        "sol(5)"
      ]
    },
    {
      "cell_type": "code",
      "execution_count": null,
      "metadata": {},
      "outputs": [
        {
          "name": "stdout",
          "output_type": "stream",
          "text": [
            "1\n",
            "12\n",
            "123\n",
            "1234\n",
            "12345\n"
          ]
        }
      ],
      "source": [
        "#54\n",
        "def s0l(k):\n",
        "    if k < 1:\n",
        "        return\n",
        "    s0l(k-1)\n",
        "    print(k, end='')\n",
        "\n",
        "def sol(k):\n",
        "    if k < 1:\n",
        "        return\n",
        "    sol(k-1)\n",
        "    s0l(k)\n",
        "    print()\n",
        "sol(5)"
      ]
    },
    {
      "cell_type": "code",
      "execution_count": 7,
      "metadata": {},
      "outputs": [
        {
          "name": "stdout",
          "output_type": "stream",
          "text": [
            "7654321\n",
            "654321\n",
            "54321\n",
            "4321\n",
            "321\n",
            "21\n",
            "1\n"
          ]
        }
      ],
      "source": [
        "#55 숫자 역삼각형\n",
        "def ssol(k):\n",
        "    if k == 0:\n",
        "        return\n",
        "    print(k, end='')\n",
        "    ssol(k-1)\n",
        "\n",
        "def sol(k):\n",
        "    if k == 0:\n",
        "        return\n",
        "    ssol(k)\n",
        "    print()\n",
        "\n",
        "    sol(k-1)\n",
        "\n",
        "sol(7)"
      ]
    },
    {
      "cell_type": "code",
      "execution_count": null,
      "metadata": {},
      "outputs": [
        {
          "data": {
            "text/plain": [
              "8"
            ]
          },
          "execution_count": 11,
          "metadata": {},
          "output_type": "execute_result"
        }
      ],
      "source": [
        "#56 함수 최대 공약수\n",
        "import math as m\n",
        "\n",
        "def sol(k, l):\n",
        "\n",
        "    a = max(k, l)\n",
        "    b = min(k, l)\n",
        "\n",
        "    for i in range(b + 1, 1, -1):\n",
        "        if b%i==0 and a%i==0:\n",
        "            return i\n",
        "\n",
        "sol(8, 16)"
      ]
    },
    {
      "cell_type": "code",
      "execution_count": null,
      "metadata": {},
      "outputs": [],
      "source": [
        "#56 재귀 최대 공약수\n",
        "def sol(k, l):\n",
        "    "
      ]
    }
  ],
  "metadata": {
    "colab": {
      "provenance": []
    },
    "kernelspec": {
      "display_name": "Python 3",
      "name": "python3"
    },
    "language_info": {
      "codemirror_mode": {
        "name": "ipython",
        "version": 3
      },
      "file_extension": ".py",
      "mimetype": "text/x-python",
      "name": "python",
      "nbconvert_exporter": "python",
      "pygments_lexer": "ipython3",
      "version": "3.13.3"
    }
  },
  "nbformat": 4,
  "nbformat_minor": 0
}
