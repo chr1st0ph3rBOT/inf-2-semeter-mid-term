{
  "cells": [
    {
      "cell_type": "code",
      "execution_count": null,
      "metadata": {},
      "outputs": [],
      "source": [
        "#32 책대여하기\n",
        "from datetime import date\n",
        "\n",
        "class Book:\n",
        "    def __init__(self, title, author, publish_year):\n",
        "        self.title = title\n",
        "        self.author = author\n",
        "        self.publish_year = publish_year\n",
        "\n",
        "    def get_years_since_publication(self):\n",
        "        current_year = date.today().year # date.today() -> datetime.date(2025, 7, 17)\n",
        "        return current_year - self.publish_year\n",
        "    \n",
        "book = Book('Demian', 'Herman Hesse', 1919)\n",
        "print(book.get_years_since_publication())"
      ]
    },
    {
      "cell_type": "code",
      "execution_count": null,
      "metadata": {},
      "outputs": [],
      "source": [
        "#33 책대여하기\n",
        "class Book():\n",
        "    def __init__(self, title, author):\n",
        "        self.title = title\n",
        "        self.author = author\n",
        "        self.is_rented = False\n",
        "\n",
        "    def __str__(self):\n",
        "        return f'{self.title}'\n",
        "    \n",
        "class Student():\n",
        "    def __init__(self, name, id):\n",
        "        self.name = name\n",
        "        self.id = id\n",
        "        self.rented_books = []\n",
        "\n",
        "    def rent_a_book(self, book):\n",
        "        if not book.is_rented:\n",
        "            book.is_rented = True\n",
        "            self.rented_books.append(book)\n",
        "            return f'{self.name}이/가 {book.title}를 빌려감'\n",
        "        else:\n",
        "            f'{book.title}은 이미 대여중'\n",
        "\n",
        "소나기 = Book('소나기', '황순원')\n",
        "은세 = Student('은세', '1308')\n",
        "\n",
        "print(은세.rent_a_book(소나기))"
      ]
    },
    {
      "cell_type": "code",
      "execution_count": null,
      "metadata": {},
      "outputs": [],
      "source": [
        "#35 거리계산\n",
        "# 내 풀이\n",
        "\n",
        "import math as m\n",
        "\n",
        "class main:\n",
        "    def __init__(self,x_1,y_1,x_2,y_2):\n",
        "        self.x_1 = x_1\n",
        "        self.y_1 = y_1\n",
        "        self.x_2 = x_2\n",
        "        self.y_2 = y_2\n",
        "\n",
        "    def __str__(self):\n",
        "        return str(m.sqrt((self.x_1-self.x_2)**2 + (self.y_1-self.y_2)**2))\n",
        "x_1 = 1\n",
        "y_1 = 1\n",
        "\n",
        "x_2 = 0\n",
        "y_2 = 0\n",
        "\n",
        "result = main(x_1, y_1, x_2, y_2)\n",
        "\n",
        "print(result)\n",
        "\n",
        "# 쌤 풀이\n",
        "\n",
        "class Point:\n",
        "    def __init__(self, x,y):\n",
        "        self.x = x\n",
        "        self.y =y\n",
        "\n",
        "    def distance(self, v):\n",
        "        return m.sqrt((self.x - v.x)**2 + (self.y-v.y)**2)\n",
        "    \n",
        "p1 = Point(0, 0)\n",
        "p2 = Point(1, 1)\n",
        "\n",
        "print(p1.distance(p2))"
      ]
    },
    {
      "cell_type": "code",
      "execution_count": null,
      "metadata": {},
      "outputs": [],
      "source": [
        "#36 영화 예매\n",
        "# 내 풀이\n",
        "class main:\n",
        "    def __init__(self, remainig_seats):\n",
        "        self.remainig_seats = remainig_seats\n",
        "\n",
        "    def __str__(self):\n",
        "        if self.remainig_seats > 0:\n",
        "            self.remainig_seats = self.remainig_seats - 1\n",
        "            return \"Booking Granted\"\n",
        "        else:\n",
        "            return \"Sold Out\"\n",
        "            \n",
        "n=3\n",
        "print('스머프')\n",
        "스머프 = main(n)\n",
        "for _ in range(n+1):\n",
        "    print(스머프)\n",
        "\n",
        "m = 7\n",
        "print('인터스텔라')\n",
        "인터스텔라 = main(m)\n",
        "for _ in range(m+1):\n",
        "    print(인터스텔라)\n"
      ]
    },
    {
      "cell_type": "code",
      "execution_count": null,
      "metadata": {
        "colab": {
          "base_uri": "https://localhost:8080/"
        },
        "id": "pVn1JVpQ_km0",
        "outputId": "bcdc2bcc-1ea6-48ac-c10a-1835fe674246"
      },
      "outputs": [
        {
          "data": {
            "text/plain": [
              "55"
            ]
          },
          "execution_count": 2,
          "metadata": {},
          "output_type": "execute_result"
        }
      ],
      "source": [
        "# 44\n",
        "def sol(k):\n",
        "  if k == 1:\n",
        "    return 1\n",
        "  return sol(k-1) + k\n",
        "\n",
        "sol(10)"
      ]
    },
    {
      "cell_type": "code",
      "execution_count": null,
      "metadata": {
        "colab": {
          "base_uri": "https://localhost:8080/"
        },
        "id": "2a-kpTJMAfTd",
        "outputId": "6bdd7fa8-bdc3-4409-e06c-d0fc873d1faa"
      },
      "outputs": [
        {
          "data": {
            "text/plain": [
              "3628800"
            ]
          },
          "execution_count": 3,
          "metadata": {},
          "output_type": "execute_result"
        }
      ],
      "source": [
        "# 45\n",
        "def sol(k):\n",
        "  if k == 1:\n",
        "    return 1\n",
        "  return sol(k-1) * k\n",
        "\n",
        "sol(10)"
      ]
    },
    {
      "cell_type": "code",
      "execution_count": null,
      "metadata": {
        "colab": {
          "base_uri": "https://localhost:8080/"
        },
        "id": "DaUR9sdlAoFm",
        "outputId": "036a2fcc-9341-4192-d0e9-c3c6d3ec9911"
      },
      "outputs": [
        {
          "name": "stdout",
          "output_type": "stream",
          "text": [
            "10\n",
            "9\n",
            "8\n",
            "7\n",
            "6\n",
            "5\n",
            "4\n",
            "3\n",
            "2\n"
          ]
        },
        {
          "data": {
            "text/plain": [
              "1"
            ]
          },
          "execution_count": 9,
          "metadata": {},
          "output_type": "execute_result"
        }
      ],
      "source": [
        "# 46_1\n",
        "def sol(k):\n",
        "  if k == 1:\n",
        "    return 1\n",
        "  print(k)\n",
        "  return sol(k-1)\n",
        "\n",
        "sol(10)"
      ]
    },
    {
      "cell_type": "code",
      "execution_count": 7,
      "metadata": {
        "colab": {
          "base_uri": "https://localhost:8080/"
        },
        "id": "r8ugtkvrA9tF",
        "outputId": "be455792-b225-4b2c-8d3a-d97134e47c87"
      },
      "outputs": [
        {
          "name": "stdout",
          "output_type": "stream",
          "text": [
            "1\n",
            "2\n",
            "3\n",
            "4\n",
            "5\n",
            "None\n"
          ]
        }
      ],
      "source": [
        "# 46_2\n",
        "'''n = 10\n",
        "\n",
        "def sol(k):\n",
        "  if k == 0:\n",
        "    return n\n",
        "  print(n - k + 1)\n",
        "  return sol(k-1)\n",
        "\n",
        "print(sol(n))\n",
        "'''\n",
        "#쌤풀이\n",
        "n = 5\n",
        "def c_up(k):\n",
        "  if k < 1:\n",
        "    return\n",
        "  c_up(k-1)\n",
        "  print(k)\n",
        "\n",
        "print(c_up(n))"
      ]
    },
    {
      "cell_type": "code",
      "execution_count": 8,
      "metadata": {},
      "outputs": [
        {
          "data": {
            "text/plain": [
              "8"
            ]
          },
          "execution_count": 8,
          "metadata": {},
          "output_type": "execute_result"
        }
      ],
      "source": [
        "#47 fibo\n",
        "def sol(k):\n",
        "    if k == 1:\n",
        "        return 1\n",
        "    elif k == 2:\n",
        "        return 1\n",
        "    return sol(k-1) + sol(k-2)\n",
        "\n",
        "sol(6)"
      ]
    },
    {
      "cell_type": "code",
      "execution_count": 9,
      "metadata": {},
      "outputs": [
        {
          "data": {
            "text/plain": [
              "4"
            ]
          },
          "execution_count": 9,
          "metadata": {},
          "output_type": "execute_result"
        }
      ],
      "source": [
        "#48 tribo\n",
        "def sol(k):\n",
        "    if k == 1:\n",
        "        return 0\n",
        "    elif k == 2:\n",
        "        return 0\n",
        "    elif k == 3:\n",
        "        return 1\n",
        "    return sol(k-1) + sol(k-2) + sol(k-3)\n",
        "\n",
        "sol(6)"
      ]
    },
    {
      "cell_type": "code",
      "execution_count": null,
      "metadata": {},
      "outputs": [
        {
          "data": {
            "text/plain": [
              "8"
            ]
          },
          "execution_count": 21,
          "metadata": {},
          "output_type": "execute_result"
        }
      ],
      "source": [
        "#48 확장 n차 피보나치\n",
        "from functools import lru_cache\n",
        "\n",
        "def k_nacci(k, n):\n",
        "    @lru_cache(maxsize=None)\n",
        "    def f(m):\n",
        "        if m < k:\n",
        "            return 0\n",
        "        if m == k:\n",
        "            return 1\n",
        "        return sum(f(m - i) for i in range(1, k + 1))\n",
        "    return f(n + 1)\n",
        "\n",
        "k_nacci(2, 6)\n"
      ]
    },
    {
      "cell_type": "code",
      "execution_count": null,
      "metadata": {},
      "outputs": [],
      "source": [
        "#매개 변수와 전역 변수 의 재귀적 사용\n",
        "\n",
        "#매개 변수\n",
        "def f(k):\n",
        "    if  k == 0:\n",
        "        return\n",
        "    \n",
        "    f(k-1)\n",
        "\n",
        "#전역 변수\n",
        "n = 4\n",
        "def fd():\n",
        "    global n\n",
        "    if n == 0:\n",
        "        return\n",
        "    n=n-1\n",
        "    fd()"
      ]
    },
    {
      "cell_type": "code",
      "execution_count": null,
      "metadata": {},
      "outputs": [
        {
          "name": "stdout",
          "output_type": "stream",
          "text": [
            "*****"
          ]
        }
      ],
      "source": [
        "#49 n개의 문자를 한줄에\n",
        "def sol(k):\n",
        "    if k == 0:\n",
        "        return\n",
        "    print('*', end='')    \n",
        "    sol(k-1)\n",
        "sol(5)"
      ]
    },
    {
      "cell_type": "code",
      "execution_count": null,
      "metadata": {},
      "outputs": [
        {
          "name": "stdout",
          "output_type": "stream",
          "text": [
            "12345"
          ]
        }
      ],
      "source": [
        "#50 1~n까지 한줄 출력\n",
        "n = 5\n",
        "\n",
        "def sol(k):\n",
        "    global n\n",
        "    if k == 0:\n",
        "        return\n",
        "    print(n-k + 1, end='')\n",
        "    sol(k-1)\n",
        "\n",
        "sol(5)"
      ]
    },
    {
      "cell_type": "code",
      "execution_count": null,
      "metadata": {},
      "outputs": [
        {
          "name": "stdout",
          "output_type": "stream",
          "text": [
            "****"
          ]
        }
      ],
      "source": [
        "#51 n개 문자 출력(전역 변수)\n",
        "n = 4\n",
        "\n",
        "def sol():\n",
        "    global n\n",
        "    if n == 0:\n",
        "        return\n",
        "    n = n-1\n",
        "    print('*', end='')\n",
        "    sol()\n",
        "\n",
        "sol()\n"
      ]
    },
    {
      "cell_type": "code",
      "execution_count": 24,
      "metadata": {},
      "outputs": [
        {
          "name": "stdout",
          "output_type": "stream",
          "text": [
            "*\n",
            "**\n",
            "***\n",
            "****\n",
            "*****\n",
            "\n",
            "*\n",
            "**\n",
            "***\n",
            "****\n",
            "*****"
          ]
        }
      ],
      "source": [
        "#52 별삼각형(함수)\n",
        "def sol(k):\n",
        "    for i in range(1, k+1):\n",
        "        print('*'*i)\n",
        "sol(5)\n",
        "\n",
        "#52 별삼각형(함수) #쌤풀이\n",
        "def f(k):\n",
        "    for i in range(1, k + 1):\n",
        "        print()\n",
        "        for j in range(1, i + 1):\n",
        "            print('*', end='')\n",
        "f(5)"
      ]
    },
    {
      "cell_type": "code",
      "execution_count": 27,
      "metadata": {},
      "outputs": [
        {
          "name": "stdout",
          "output_type": "stream",
          "text": [
            "*\n",
            "**\n",
            "***\n",
            "****\n",
            "*****\n",
            "*\n",
            "**\n",
            "***\n",
            "****\n",
            "*****\n"
          ]
        }
      ],
      "source": [
        "#52 별삼각형(재귀)\n",
        "n = 5\n",
        "\n",
        "def sol(k):\n",
        "    global n\n",
        "    if k == 0:\n",
        "        return\n",
        "    print('*'*(n-k + 1))\n",
        "    sol(k-1)\n",
        "\n",
        "sol(5)\n",
        "\n",
        "# 모범 답안\n",
        "def ssol(k):\n",
        "  if k < 1:\n",
        "    return\n",
        "  ssol(k-1)\n",
        "  print('*'*k, end='')\n",
        "  print()\n",
        "\n",
        "ssol(5)"
      ]
    },
    {
      "cell_type": "code",
      "execution_count": null,
      "metadata": {},
      "outputs": [],
      "source": [
        "# 3D 정육면제 구현 걍 딴짓\n",
        "\n",
        "import math\n",
        "import time\n",
        "import os\n",
        "\n",
        "width, height = 80, 40\n",
        "\n",
        "angle_x = 0\n",
        "angle_y = 0\n",
        "\n",
        "cube_vertices = [\n",
        "    [-1, -1, -1],\n",
        "    [-1, -1,  1],\n",
        "    [-1,  1, -1],\n",
        "    [-1,  1,  1],\n",
        "    [ 1, -1, -1],\n",
        "    [ 1, -1,  1],\n",
        "    [ 1,  1, -1],\n",
        "    [ 1,  1,  1]\n",
        "]\n",
        "\n",
        "cube_edges = [\n",
        "    (0, 1), (0, 2), (0, 4),\n",
        "    (1, 3), (1, 5),\n",
        "    (2, 3), (2, 6),\n",
        "    (3, 7),\n",
        "    (4, 5), (4, 6),\n",
        "    (5, 7),\n",
        "    (6, 7)\n",
        "]\n",
        "\n",
        "while True:\n",
        "    os.system('cls' if os.name == 'nt' else 'clear')\n",
        "    screen = [[\" \" for _ in range(width)] for _ in range(height)]\n",
        "    \n",
        "    projected = []\n",
        "    for x, y, z in cube_vertices:\n",
        "        y_rot = y * math.cos(angle_x) - z * math.sin(angle_x)\n",
        "        z_rot = y * math.sin(angle_x) + z * math.cos(angle_x)\n",
        "        x_rot = x\n",
        "        x_rot2 = x_rot * math.cos(angle_y) + z_rot * math.sin(angle_y)\n",
        "        z_rot2 = -x_rot * math.sin(angle_y) + z_rot * math.cos(angle_y)\n",
        "        y_rot2 = y_rot\n",
        "        \n",
        "        fov = 1.5\n",
        "        distance = 4\n",
        "        factor = fov / (distance - z_rot2)\n",
        "        X = int(width / 2 + x_rot2 * factor * width / 2)\n",
        "        Y = int(height / 2 - y_rot2 * factor * height / 2)\n",
        "        projected.append((X, Y))\n",
        "    \n",
        "    for edge in cube_edges:\n",
        "        x1, y1 = projected[edge[0]]\n",
        "        x2, y2 = projected[edge[1]]\n",
        "        dx = x2 - x1\n",
        "        dy = y2 - y1\n",
        "        steps = max(abs(dx), abs(dy))\n",
        "        for i in range(steps + 1):\n",
        "            xi = int(x1 + dx * i / steps)\n",
        "            yi = int(y1 + dy * i / steps)\n",
        "            if 0 <= xi < width and 0 <= yi < height:\n",
        "                screen[yi][xi] = \"*\"\n",
        "    \n",
        "    for row in screen:\n",
        "        print(\"\".join(row))\n",
        "    \n",
        "    angle_x += 0.05\n",
        "    angle_y += 0.03\n",
        "    time.sleep(0.03)\n"
      ]
    },
    {
      "cell_type": "code",
      "execution_count": 8,
      "metadata": {},
      "outputs": [
        {
          "name": "stdout",
          "output_type": "stream",
          "text": [
            "*****\n",
            "****\n",
            "***\n",
            "**\n",
            "*\n"
          ]
        }
      ],
      "source": [
        "# 53 역 별삼각형\n",
        "def sol(k):\n",
        "    print('*'*k)\n",
        "    if k == 1:\n",
        "        return\n",
        "    sol(k-1)\n",
        "\n",
        "sol(5)"
      ]
    },
    {
      "cell_type": "code",
      "execution_count": null,
      "metadata": {},
      "outputs": [
        {
          "name": "stdout",
          "output_type": "stream",
          "text": [
            "1\n",
            "12\n",
            "123\n",
            "1234\n",
            "12345\n"
          ]
        }
      ],
      "source": [
        "#54\n",
        "def s0l(k):\n",
        "    if k < 1:\n",
        "        return\n",
        "    s0l(k-1)\n",
        "    print(k, end='')\n",
        "\n",
        "def sol(k):\n",
        "    if k < 1:\n",
        "        return\n",
        "    sol(k-1)\n",
        "    s0l(k)\n",
        "    print()\n",
        "sol(5)"
      ]
    },
    {
      "cell_type": "code",
      "execution_count": 7,
      "metadata": {},
      "outputs": [
        {
          "name": "stdout",
          "output_type": "stream",
          "text": [
            "7654321\n",
            "654321\n",
            "54321\n",
            "4321\n",
            "321\n",
            "21\n",
            "1\n"
          ]
        }
      ],
      "source": [
        "#55 숫자 역삼각형\n",
        "def ssol(k):\n",
        "    if k == 0:\n",
        "        return\n",
        "    print(k, end='')\n",
        "    ssol(k-1)\n",
        "\n",
        "def sol(k):\n",
        "    if k == 0:\n",
        "        return\n",
        "    ssol(k)\n",
        "    print()\n",
        "\n",
        "    sol(k-1)\n",
        "\n",
        "sol(7)"
      ]
    },
    {
      "cell_type": "code",
      "execution_count": null,
      "metadata": {},
      "outputs": [
        {
          "data": {
            "text/plain": [
              "8"
            ]
          },
          "execution_count": 11,
          "metadata": {},
          "output_type": "execute_result"
        }
      ],
      "source": [
        "#56 함수 최대 공약수\n",
        "import math as m\n",
        "\n",
        "def sol(k, l):\n",
        "\n",
        "    a = max(k, l)\n",
        "    b = min(k, l)\n",
        "\n",
        "    for i in range(b + 1, 1, -1):\n",
        "        if b%i==0 and a%i==0:\n",
        "            return i\n",
        "\n",
        "sol(8, 16)"
      ]
    },
    {
      "cell_type": "code",
      "execution_count": 7,
      "metadata": {},
      "outputs": [
        {
          "name": "stdout",
          "output_type": "stream",
          "text": [
            "19332 1368\n",
            "1368 180\n",
            "180 108\n",
            "108 72\n",
            "72 36\n",
            "36 0\n",
            "36\n"
          ]
        }
      ],
      "source": [
        "#56 재귀 최대 공약수 유클리드 호제법\n",
        "def sol(k, l):\n",
        "    mod = k%l\n",
        "    print(l, mod)\n",
        "    if k%l == 0:\n",
        "        return l\n",
        "    return sol(l, mod)\n",
        "\n",
        "print(sol(78696, 19332))"
      ]
    },
    {
      "cell_type": "code",
      "execution_count": null,
      "metadata": {},
      "outputs": [
        {
          "data": {
            "text/plain": [
              "16.0"
            ]
          },
          "execution_count": 8,
          "metadata": {},
          "output_type": "execute_result"
        }
      ],
      "source": [
        "#57 LCD 함수\n",
        "import math as m\n",
        "\n",
        "def sol(k, l):\n",
        "\n",
        "    a = max(k, l)\n",
        "    b = min(k, l)\n",
        "\n",
        "    for i in range(b + 1, 1, -1):\n",
        "        if b%i==0 and a%i==0:\n",
        "            return i\n",
        "\n",
        "def ssol(k, l):\n",
        "    gcd = sol(k, l)\n",
        "    return k*l/gcd\n",
        "\n",
        "sol(8, 16)\n",
        "ssol(8,16)"
      ]
    },
    {
      "cell_type": "code",
      "execution_count": 13,
      "metadata": {},
      "outputs": [
        {
          "name": "stdout",
          "output_type": "stream",
          "text": [
            "8\n"
          ]
        },
        {
          "data": {
            "text/plain": [
              "16.0"
            ]
          },
          "execution_count": 13,
          "metadata": {},
          "output_type": "execute_result"
        }
      ],
      "source": [
        "#57 LCD 재귀\n",
        "import math as m\n",
        "\n",
        "def sol(k, l):\n",
        "    mod = k%l\n",
        "    #print(l, mod)\n",
        "    if k%l == 0:\n",
        "        return l\n",
        "    return sol(l, mod)\n",
        "\n",
        "def ssol(k, l):\n",
        "    gcd = sol(k, l)\n",
        "    return k*l/gcd\n",
        "\n",
        "print(sol(8, 16))\n",
        "ssol(8,16)"
      ]
    },
    {
      "cell_type": "code",
      "execution_count": 3,
      "metadata": {},
      "outputs": [
        {
          "name": "stdout",
          "output_type": "stream",
          "text": [
            "[0, 1, 2, 3, 4, 5, 6, 7, 8, 9, 'a', 'b', 'c', 'd', 'e', 'f', 'g', 'h', 'i', 'j', 'k', 'l', 'm', 'n', 'o', 'p', 'q', 'r', 's', 't', 'u', 'v', 'w', 'x', 'y', 'z']\n"
          ]
        },
        {
          "data": {
            "text/plain": [
              "'1000'"
            ]
          },
          "execution_count": 3,
          "metadata": {},
          "output_type": "execute_result"
        }
      ],
      "source": [
        "#58 진법 변환 함수\n",
        "numbers = [i for i in range(0, 10, 1)]\n",
        "alpha = [chr(i) for i in range(ord('a'), ord('z') + 1, 1)]\n",
        "nums = numbers + alpha\n",
        "\n",
        "print(nums)\n",
        "\n",
        "nums.index('a')\n",
        "\n",
        "def to_deci(k, formation):#k는 formation진수\n",
        "    result = 0\n",
        "    string = str(k)\n",
        "    if formation <= 10:\n",
        "        for i in range(len(string)):\n",
        "            result = result + int(string[i]) * formation**(len(string) - i - 1)\n",
        "        return result\n",
        "    else:\n",
        "        for i in range(len(string)):\n",
        "            result = result + nums.index(string[i])*formation**(len(string) - i - 1)\n",
        "        return result\n",
        "\n",
        "#test\n",
        "to_deci(11, 2)\n",
        "\n",
        "def deci_to_desti(k, formation):# k는 10진수\n",
        "    result = ''\n",
        "    mod = 0\n",
        "    flag = True\n",
        "    if formation <= 10:\n",
        "        while flag == True:\n",
        "            mod = k%formation\n",
        "            k = k//formation\n",
        "            result = str(mod) + result\n",
        "            if k == 1:\n",
        "                result = '1' + result\n",
        "                flag = False\n",
        "        return result\n",
        "    else:\n",
        "        while flag == True:\n",
        "            mod = k%formation\n",
        "            k = k//formation\n",
        "            result = str(mod) + result\n",
        "            if mod == 0:\n",
        "                flag = False\n",
        "        return nums[int(result)]\n",
        "\n",
        "deci_to_desti(12, 8)\n",
        "\n",
        "def sol(k, depart_formation, desti_formation):\n",
        "    return deci_to_desti(to_deci(k, depart_formation), desti_formation)\n",
        "\n",
        "sol(8, 10, 2)\n"
      ]
    },
    {
      "cell_type": "code",
      "execution_count": 15,
      "metadata": {},
      "outputs": [
        {
          "name": "stdout",
          "output_type": "stream",
          "text": [
            "1000\n",
            "1000\n"
          ]
        }
      ],
      "source": [
        "#58(과제1: 10진수 -> 2진수)(일반 함수 ver)\n",
        "def sol(k):\n",
        "    result = ''\n",
        "    while k != 0:\n",
        "        result = str(k%2) + result\n",
        "        k = k//2\n",
        "    return result\n",
        "\n",
        "n = 8\n",
        "print(sol(n))\n",
        "\n",
        "#쌤 코드\n",
        "def f(mok):\n",
        "    result = ''\n",
        "    mod = 0\n",
        "    while mok != 0:\n",
        "        mod = mok % 2\n",
        "        mok = mok // 2\n",
        "        result += str(mod)\n",
        "    return result[::-1]        # 슬라이싱\n",
        "\n",
        "n = 8\n",
        "print(f(n))"
      ]
    },
    {
      "cell_type": "code",
      "execution_count": null,
      "metadata": {},
      "outputs": [
        {
          "name": "stdout",
          "output_type": "stream",
          "text": [
            "1000\n",
            "1000"
          ]
        }
      ],
      "source": [
        "#58(과제1: 10진수 -> 2진수)(재귀 함수 ver)\n",
        "result = ''\n",
        "\n",
        "def sol(k, formation):\n",
        "    global result \n",
        "    if k == 1:\n",
        "        result = '1' + result\n",
        "        return\n",
        "    result = str(k%formation) + result \n",
        "    sol(k//formation, formation)\n",
        "\n",
        "sol(8, 2)\n",
        "print(result)\n",
        "    \n",
        "\n",
        "# 내 풀이 간결화 버전 -> 썜풀이랑 동일\n",
        "def ssol(mok):\n",
        "    if mok == 0:\n",
        "        return\n",
        "    ssol(mok//2)\n",
        "    print(mok%2, end='')\n",
        "\n",
        "ssol(8)\n"
      ]
    },
    {
      "cell_type": "code",
      "execution_count": 17,
      "metadata": {},
      "outputs": [
        {
          "name": "stdout",
          "output_type": "stream",
          "text": [
            "22"
          ]
        }
      ],
      "source": [
        "# 58 n 진수\n",
        "import sys\n",
        " \n",
        "sys.setrecursionlimit(10000)\n",
        "\n",
        "def ssol(mok, base):\n",
        "    if mok == 0:\n",
        "        return\n",
        "    ssol(mok//base, base)\n",
        "    print(mok%base, end='')\n",
        "\n",
        "ssol(8, 3)"
      ]
    },
    {
      "cell_type": "code",
      "execution_count": 30,
      "metadata": {},
      "outputs": [
        {
          "ename": "IndexError",
          "evalue": "string index out of range",
          "output_type": "error",
          "traceback": [
            "\u001b[31m---------------------------------------------------------------------------\u001b[39m",
            "\u001b[31mIndexError\u001b[39m                                Traceback (most recent call last)",
            "\u001b[36mCell\u001b[39m\u001b[36m \u001b[39m\u001b[32mIn[30]\u001b[39m\u001b[32m, line 13\u001b[39m\n\u001b[32m     10\u001b[39m     var += \u001b[38;5;28mint\u001b[39m(k[\u001b[32m0\u001b[39m])*(base**(\u001b[38;5;28mlen\u001b[39m(k)-\u001b[32m1\u001b[39m))\n\u001b[32m     11\u001b[39m     sol(k[\u001b[32m1\u001b[39m:], base)\n\u001b[32m---> \u001b[39m\u001b[32m13\u001b[39m \u001b[43msol\u001b[49m\u001b[43m(\u001b[49m\u001b[33;43m'\u001b[39;49m\u001b[33;43m11\u001b[39;49m\u001b[33;43m'\u001b[39;49m\u001b[43m,\u001b[49m\u001b[43m \u001b[49m\u001b[32;43m2\u001b[39;49m\u001b[43m)\u001b[49m\n\u001b[32m     15\u001b[39m \u001b[38;5;28mprint\u001b[39m(var)\n",
            "\u001b[36mCell\u001b[39m\u001b[36m \u001b[39m\u001b[32mIn[30]\u001b[39m\u001b[32m, line 11\u001b[39m, in \u001b[36msol\u001b[39m\u001b[34m(k, base)\u001b[39m\n\u001b[32m      9\u001b[39m     \u001b[38;5;28;01mreturn\u001b[39;00m\n\u001b[32m     10\u001b[39m var += \u001b[38;5;28mint\u001b[39m(k[\u001b[32m0\u001b[39m])*(base**(\u001b[38;5;28mlen\u001b[39m(k)-\u001b[32m1\u001b[39m))\n\u001b[32m---> \u001b[39m\u001b[32m11\u001b[39m \u001b[43msol\u001b[49m\u001b[43m(\u001b[49m\u001b[43mk\u001b[49m\u001b[43m[\u001b[49m\u001b[32;43m1\u001b[39;49m\u001b[43m:\u001b[49m\u001b[43m]\u001b[49m\u001b[43m,\u001b[49m\u001b[43m \u001b[49m\u001b[43mbase\u001b[49m\u001b[43m)\u001b[49m\n",
            "\u001b[36mCell\u001b[39m\u001b[36m \u001b[39m\u001b[32mIn[30]\u001b[39m\u001b[32m, line 11\u001b[39m, in \u001b[36msol\u001b[39m\u001b[34m(k, base)\u001b[39m\n\u001b[32m      9\u001b[39m     \u001b[38;5;28;01mreturn\u001b[39;00m\n\u001b[32m     10\u001b[39m var += \u001b[38;5;28mint\u001b[39m(k[\u001b[32m0\u001b[39m])*(base**(\u001b[38;5;28mlen\u001b[39m(k)-\u001b[32m1\u001b[39m))\n\u001b[32m---> \u001b[39m\u001b[32m11\u001b[39m \u001b[43msol\u001b[49m\u001b[43m(\u001b[49m\u001b[43mk\u001b[49m\u001b[43m[\u001b[49m\u001b[32;43m1\u001b[39;49m\u001b[43m:\u001b[49m\u001b[43m]\u001b[49m\u001b[43m,\u001b[49m\u001b[43m \u001b[49m\u001b[43mbase\u001b[49m\u001b[43m)\u001b[49m\n",
            "\u001b[36mCell\u001b[39m\u001b[36m \u001b[39m\u001b[32mIn[30]\u001b[39m\u001b[32m, line 10\u001b[39m, in \u001b[36msol\u001b[39m\u001b[34m(k, base)\u001b[39m\n\u001b[32m      8\u001b[39m \u001b[38;5;28;01mif\u001b[39;00m n < \u001b[32m0\u001b[39m:\n\u001b[32m      9\u001b[39m     \u001b[38;5;28;01mreturn\u001b[39;00m\n\u001b[32m---> \u001b[39m\u001b[32m10\u001b[39m var += \u001b[38;5;28mint\u001b[39m(\u001b[43mk\u001b[49m\u001b[43m[\u001b[49m\u001b[32;43m0\u001b[39;49m\u001b[43m]\u001b[49m)*(base**(\u001b[38;5;28mlen\u001b[39m(k)-\u001b[32m1\u001b[39m))\n\u001b[32m     11\u001b[39m sol(k[\u001b[32m1\u001b[39m:], base)\n",
            "\u001b[31mIndexError\u001b[39m: string index out of range"
          ]
        }
      ],
      "source": [
        "# 58 n진수 to 10진수\n",
        "\n",
        "var = 0\n",
        "\n",
        "def sol(k, base):     # type(k) -> str\n",
        "    global var\n",
        "    n = len(k)\n",
        "    if n < 0:\n",
        "        return\n",
        "    var += int(k[0])*(base**(len(k)-1))\n",
        "    sol(k[1:], base)\n",
        "\n",
        "sol('11', 2)\n",
        "\n",
        "print(var)"
      ]
    },
    {
      "cell_type": "code",
      "execution_count": null,
      "metadata": {},
      "outputs": [
        {
          "name": "stdout",
          "output_type": "stream",
          "text": [
            "10\n",
            "10.0\n",
            "60\n"
          ]
        },
        {
          "data": {
            "text/plain": [
              "60"
            ]
          },
          "execution_count": 12,
          "metadata": {},
          "output_type": "execute_result"
        }
      ],
      "source": [
        "# 59 Combination 재귀\n",
        "def sol(n, r):\n",
        "    if n == r:\n",
        "        return 1\n",
        "    if r == 1:\n",
        "        return n\n",
        "    return sol(n-1, r) + sol(n-1, r-1)\n",
        "\n",
        "print(sol(5,3))\n",
        "\n",
        "\n",
        "# ver.2\n",
        "def factorial(k):\n",
        "    if k == 1:\n",
        "        return 1\n",
        "    return k*factorial(k-1)\n",
        "\n",
        "def p(n,r):                           #permutation\n",
        "    return factorial(n)/factorial(r-1)\n",
        "\n",
        "def c(n,r):                           #combination\n",
        "    return p(n,r)/factorial(r)\n",
        "\n",
        "print(c(5,3))\n",
        "\n",
        "#쌤풀이\n",
        "def permutation(n,r):\n",
        "    result = 1\n",
        "    for i in range(n, n-r, -1):      #for i in range(0, r, 1): result *= n-i\n",
        "        result *= i\n",
        "    return result\n",
        "\n",
        "print(permutation(5,3))\n",
        "\n",
        "#쌤풀이 QUIZ\n",
        "def permutationver2(n, r):\n",
        "    if n == r:\n",
        "        return n\n",
        "    return n * permutationver2(n-1, r)\n",
        "permutationver2(5,3)\n",
        "\n",
        "#쌤풀이 QUIZ 정답\n",
        "def p(n, r):\n",
        "    if ______:\n",
        "        return ______\n",
        "    return n * ______\n",
        "print(p(3,2))\n",
        "\n",
        "def permu(n, r):\n",
        "    if r == 0:\n",
        "        return 1\n",
        "    return n * permu(n-1, r-1)\n",
        "print(permu(3,2))"
      ]
    },
    {
      "cell_type": "code",
      "execution_count": null,
      "metadata": {},
      "outputs": [],
      "source": [
        "#60 HANOI TOWER\n",
        "def sol(k):\n",
        "    if k == 2:\n",
        "        return 3\n",
        "    "
      ]
    }
  ],
  "metadata": {
    "colab": {
      "provenance": []
    },
    "kernelspec": {
      "display_name": "Python 3",
      "name": "python3"
    },
    "language_info": {
      "codemirror_mode": {
        "name": "ipython",
        "version": 3
      },
      "file_extension": ".py",
      "mimetype": "text/x-python",
      "name": "python",
      "nbconvert_exporter": "python",
      "pygments_lexer": "ipython3",
      "version": "3.13.3"
    }
  },
  "nbformat": 4,
  "nbformat_minor": 0
}
