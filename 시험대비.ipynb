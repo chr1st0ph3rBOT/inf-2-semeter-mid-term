{
 "cells": [
  {
   "cell_type": "code",
   "execution_count": 1,
   "id": "acdde0ec",
   "metadata": {},
   "outputs": [],
   "source": [
    "# 클래스의 일반적인 포맷\n",
    "class EX:\n",
    "    def __init__(self, var_1, var_2):\n",
    "        self.var_1 = var_1\n",
    "        self.var_2 = var_2\n",
    "\n",
    "    def __str__(self):\n",
    "        return f'{self.var_1, self.var_2}'"
   ]
  },
  {
   "cell_type": "code",
   "execution_count": null,
   "id": "e5a5aced",
   "metadata": {},
   "outputs": [
    {
     "name": "stdout",
     "output_type": "stream",
     "text": [
      "1.4142135623730951\n"
     ]
    }
   ],
   "source": [
    "# 거리계산\n",
    "import math as m\n",
    "\n",
    "class Point:\n",
    "    def __init__(self, x,y):\n",
    "        self.x = x\n",
    "        self.y = y\n",
    "\n",
    "    def distance(self, v):\n",
    "        return m.sqrt((self.x - v.x)**2 + (self.y-v.y)**2)\n",
    "    \n",
    "p1 = Point(0, 0)\n",
    "p2 = Point(1, 1)\n",
    "\n",
    "print(p1.distance(p2))"
   ]
  },
  {
   "cell_type": "code",
   "execution_count": 4,
   "id": "95b7941e",
   "metadata": {},
   "outputs": [
    {
     "data": {
      "text/plain": [
       "55"
      ]
     },
     "execution_count": 4,
     "metadata": {},
     "output_type": "execute_result"
    }
   ],
   "source": [
    "# 가장 간단한 재귀_1\n",
    "def sol(k):\n",
    "    if k == 1:\n",
    "        return 1\n",
    "    return sol(k-1) + k\n",
    "\n",
    "sol(10)"
   ]
  },
  {
   "cell_type": "code",
   "execution_count": 5,
   "id": "731fa118",
   "metadata": {},
   "outputs": [
    {
     "name": "stdout",
     "output_type": "stream",
     "text": [
      "10\n",
      "9\n",
      "8\n",
      "7\n",
      "6\n",
      "5\n",
      "4\n",
      "3\n",
      "2\n",
      "1\n"
     ]
    }
   ],
   "source": [
    "# 가장 간단한 재귀_2\n",
    "def sol(k):\n",
    "    if k == 0:\n",
    "        return\n",
    "    # 출력하고 다음 recursion_depth로 이동\n",
    "    print(k)\n",
    "    sol(k-1)\n",
    "\n",
    "sol(10)"
   ]
  },
  {
   "cell_type": "code",
   "execution_count": 6,
   "id": "c127abaf",
   "metadata": {},
   "outputs": [
    {
     "name": "stdout",
     "output_type": "stream",
     "text": [
      "1\n",
      "2\n",
      "3\n",
      "None\n"
     ]
    }
   ],
   "source": [
    "# 가장 간단한 재귀_3\n",
    "def sol(k):\n",
    "    if k < 1:\n",
    "        return \n",
    "    # recursion depth 끝에서 다시 돌아오면서 출력\n",
    "    sol(k-1)\n",
    "    print(k)\n",
    "\n",
    "print(sol(3)) #None 발생\n",
    "# 재귀 내부에서도 None 계속 발생 하고 있음\n",
    "# 재귀 내부에는 None을 출력하는 함수가 없어서 표시 되지 않음\n",
    "# 결국 마지막 sol(3)가 반환하는 None이 print()에서 출력됨"
   ]
  },
  {
   "cell_type": "code",
   "execution_count": null,
   "id": "03a914a0",
   "metadata": {},
   "outputs": [],
   "source": [
    "# fibo(쉬우니까 참고만!)\n",
    "def sol(k):\n",
    "    if k == 1:\n",
    "        return 1\n",
    "    elif k == 2:\n",
    "        return 1\n",
    "    return sol(k-1) + sol(k-2)\n",
    "\n",
    "sol(6)\n",
    "\n",
    "# tribo(쉬우니까 참고만!)\n",
    "def sol(k):\n",
    "    if k == 1:\n",
    "        return 0\n",
    "    elif k == 2:\n",
    "        return 0\n",
    "    elif k == 3:\n",
    "        return 1\n",
    "    return sol(k-1) + sol(k-2) + sol(k-3)\n",
    "\n",
    "sol(6)"
   ]
  },
  {
   "cell_type": "code",
   "execution_count": null,
   "id": "0979781c",
   "metadata": {},
   "outputs": [],
   "source": [
    "#매개 변수와 전역 변수 의 재귀적 사용\n",
    "\n",
    "#매개 변수\n",
    "def f(k):\n",
    "    if  k == 0:\n",
    "        return\n",
    "    \n",
    "    f(k-1)\n",
    "\n",
    "#전역 변수\n",
    "n = 4\n",
    "def fd():\n",
    "    global n\n",
    "    if n == 0:\n",
    "        return\n",
    "    n=n-1\n",
    "    fd()"
   ]
  },
  {
   "cell_type": "code",
   "execution_count": null,
   "id": "b84d9ce7",
   "metadata": {},
   "outputs": [
    {
     "data": {
      "text/plain": [
       "8"
      ]
     },
     "execution_count": 14,
     "metadata": {},
     "output_type": "execute_result"
    }
   ],
   "source": [
    "# 함수 최대 공약수\n",
    "import math as m\n",
    "\n",
    "def sol(k, l):\n",
    "\n",
    "    a = max(k, l)\n",
    "    b = min(k, l)\n",
    "\n",
    "    for i in range(b + 1, 1, -1):\n",
    "        if b%i==0 and a%i==0:\n",
    "            return i\n",
    "\n",
    "sol(8, 16)\n",
    "# LCD는 GL = AB를 쓰면 된다!"
   ]
  },
  {
   "cell_type": "code",
   "execution_count": null,
   "id": "6e32e145",
   "metadata": {},
   "outputs": [],
   "source": [
    "# 재귀 최대 공약수 유클리드 호제법\n",
    "def sol(k, l):\n",
    "    mod = k%l\n",
    "    print(l, mod)\n",
    "    if k%l == 0:\n",
    "        return l\n",
    "    return sol(l, mod)\n",
    "\n",
    "print(sol(78696, 19332))"
   ]
  },
  {
   "cell_type": "code",
   "execution_count": 15,
   "id": "a00965dd",
   "metadata": {},
   "outputs": [
    {
     "name": "stdout",
     "output_type": "stream",
     "text": [
      "1000\n"
     ]
    }
   ],
   "source": [
    "#58(과제1: 10진수 -> 2진수)(일반 함수 ver)\n",
    "#쌤 코드\n",
    "def f(mok):\n",
    "    result = ''\n",
    "    mod = 0\n",
    "    while mok != 0:\n",
    "        mod = mok % 2\n",
    "        mok = mok // 2\n",
    "        result += str(mod)\n",
    "    return result[::-1]        # 슬라이싱\n",
    "\n",
    "n = 8\n",
    "print(f(n))"
   ]
  },
  {
   "cell_type": "code",
   "execution_count": null,
   "id": "461cad62",
   "metadata": {},
   "outputs": [
    {
     "name": "stdout",
     "output_type": "stream",
     "text": [
      "1000"
     ]
    }
   ],
   "source": [
    "#58(과제1: 10진수 -> 2진수)(재귀 함수 ver)\n",
    "# 내 풀이 간결화 버전 -> 쌤풀이랑 동일\n",
    "def ssol(mok):\n",
    "    if mok == 0:\n",
    "        return\n",
    "    # 스택 끝까지 갔다고 돌아오는 구조\n",
    "    ssol(mok//2)\n",
    "    print(mok%2, end='')\n",
    "\n",
    "ssol(8)"
   ]
  },
  {
   "cell_type": "code",
   "execution_count": null,
   "id": "dafdeeb3",
   "metadata": {},
   "outputs": [],
   "source": [
    "# n진수 to 10진수\n",
    "var = 0\n",
    "\n",
    "def sol(k, base):     # type(k) -> str\n",
    "    global var\n",
    "    n = len(k)\n",
    "    if n < 0:\n",
    "        return\n",
    "    var += int(k[0])*(base**(len(k)-1))\n",
    "    sol(k[1:], base)\n",
    "\n",
    "sol('11', 2)\n",
    "\n",
    "print(var)"
   ]
  },
  {
   "attachments": {
    "image.png": {
     "image/png": "[encoded data removed]"
    }
   },
   "cell_type": "markdown",
   "id": "3e76ba92",
   "metadata": {},
   "source": [
    "**조합의 쉬운 알고리즘**\n",
    "\n",
    "![image.png](attachment:image.png)"
   ]
  },
  {
   "cell_type": "code",
   "execution_count": 18,
   "id": "299339b8",
   "metadata": {},
   "outputs": [
    {
     "name": "stdout",
     "output_type": "stream",
     "text": [
      "6\n"
     ]
    }
   ],
   "source": [
    "#쌤풀이 QUIZ 정답\n",
    "''' QUIZ '''\n",
    "'''\n",
    "def p(n, r):\n",
    "    if ______:\n",
    "        return ______\n",
    "    return n * ______\n",
    "print(p(3,2))\n",
    "'''\n",
    "\n",
    "def permu(n, r):\n",
    "    if r == 0:\n",
    "        return 1\n",
    "    return n * permu(n-1, r-1)\n",
    "print(permu(3,2))"
   ]
  },
  {
   "cell_type": "markdown",
   "id": "a4ada3dd",
   "metadata": {},
   "source": [
    "**queue Lib**"
   ]
  },
  {
   "cell_type": "code",
   "execution_count": null,
   "id": "8c0ebfce",
   "metadata": {},
   "outputs": [],
   "source": [
    "import queue\n",
    "\n",
    "q = queue.Queue() # Queue 객체 생성\n",
    "stack = queue.LifoQueue() # LifoQueue 객체 생성\n",
    "\n",
    "# 큐\n",
    "q.put(5)    # push <-> q.append(5)\n",
    "n = q.get() # pop <-> q.pop(0)\n",
    "# 스택\n",
    "stack.put(5)    # push <-> stack.append(5)\n",
    "m = stack.get() # pop <-> stack.pop()\n",
    "\n",
    "# 큐, 스택 동일\n",
    "q.empty()   # out_type = BOOL\n"
   ]
  },
  {
   "cell_type": "code",
   "execution_count": null,
   "id": "1960ffd1",
   "metadata": {},
   "outputs": [],
   "source": [
    "# 8-puzzle\n",
    "# 위로 올리는 작업\n",
    "s = [0]*9                                                     # state 리스트 정의\n",
    "for i in range(3):                                            \n",
    "    s[i*3], s[i*3+1], s[i*3+2] = map(int, input().split())    # state 입력\n",
    "    # 0의 위치를 검색\n",
    "    for j in range(3):\n",
    "        if s[i*3+j] == 0:\n",
    "            pos =  i*3 +j\n",
    "if pos > 2: # 첫째줄 제외\n",
    "    s[pos], s[pos-3] = s[pos-3], s[pos] # 위로 올리기\n",
    "    # 출력\n",
    "    for i in range(3):\n",
    "        for j in range(3):\n",
    "            print([i*3+j], end='')\n",
    "        print()\n",
    "    print()\n",
    "else:\n",
    "    print('impossible')"
   ]
  },
  {
   "cell_type": "code",
   "execution_count": 2,
   "id": "3138f8b4",
   "metadata": {},
   "outputs": [
    {
     "name": "stdout",
     "output_type": "stream",
     "text": [
      "a b + c d * e / - f + "
     ]
    }
   ],
   "source": [
    "#64(real) 스택으로 중위를 후위로 바꾸기\n",
    "import queue\n",
    "\n",
    "operator = \"+-*/\"\n",
    "equation = input()\n",
    "stack = queue.LifoQueue()\n",
    "for i in equation:\n",
    "    if i in operator:                   # 연산 기호인가?\n",
    "        if not stack.empty():           # 스택이 비었는가?\n",
    "            top = stack.get()           # 가장 위의 요소를 top\n",
    "            stack.put(top)              # 스택은 유지\n",
    "            while not stack.empty() and operator.find(i)//2 <= operator.find(top)//2: # 현재 연산 기호가 탑보다 우선 순위가 낮을때\n",
    "                print(top, end=' ')    # 탑 출력\n",
    "                stack.get()            # 스택에서 탑 삭제\n",
    "                if not stack.empty():\n",
    "                    top = stack.get()\n",
    "                    stack.put(top)     # 스택 유지\n",
    "        stack.put(i)\n",
    "    else:\n",
    "        print(i, end=' ')\n",
    "while not stack.empty():\n",
    "    print(stack.get(), end=' ')"
   ]
  },
  {
   "cell_type": "code",
   "execution_count": null,
   "id": "cc3e9a92",
   "metadata": {},
   "outputs": [
    {
     "name": "stdout",
     "output_type": "stream",
     "text": [
      "0 1 2 6 3 4 5 "
     ]
    }
   ],
   "source": [
    "# 백트레킹\n",
    "V = 7 #V는 정점의 수\n",
    "E = 11 #E는 간선의 수\n",
    "visited = [0]*11\n",
    "ok = False\n",
    "\n",
    "M = [[1,2,3,6],\n",
    "    [0,2],\n",
    "    [0,1,6],\n",
    "    [0,4,5,6],\n",
    "    [3,5],\n",
    "    [3,4,6],\n",
    "    [0,2,3,5]]\n",
    "\n",
    "def main(x, y, z): #x는 현재 노드, y는 방문한 노드 수, z는 현재 까지 경로(type=str)\n",
    "    global V, visited, ok\n",
    "    if ok: return #ok FLAG가 참이면 종료\n",
    "    if y == V: # 방문한 노드 수가 전체 노드 수와 같은가?\n",
    "        ok = True # 모든 노드를 방문했으므로 ok는 참이됨\n",
    "        for i in z: # 현재까지 경로 히스토리에서 하나씩 뽑아서 i에 넣어\n",
    "            print(i, end=' ') # 경로를 출력\n",
    "        return\n",
    "    visited[x] = True # 현재 노드를 방문함\n",
    "    for i in M[x]: # M[x]는 x에서 가능한 노드\n",
    "        if visited[i] == False: # 가능한 노드 중 초행 인가?\n",
    "            z.append(i) # 다녀간 곳에 i 노드 추가 \n",
    "            main(i, y+1, z) # 다음 스탭 진행 i는 현재 노드, y+1은 다녀본 노드, z는 현재 까지 경로\n",
    "            z.pop() # 여기면 백트래킹한거니까 i 제거\n",
    "    visited[x] = False # 백트랙 해야하니까 현재 노드 제거\n",
    "    return # 재귀 탈출\n",
    "\n",
    "for i in range(0, V+1):\n",
    "    main(i, 1, [i]) # initiating: i는 현재 노드, 1은 방문한 수, [i]는 현재까지 방문한거\n",
    "    if ok: break\n",
    "\n",
    "if not ok: print('IMPOSSIBLE')"
   ]
  },
  {
   "cell_type": "code",
   "execution_count": null,
   "id": "2bee6fbf",
   "metadata": {},
   "outputs": [],
   "source": [
    "#매개변수 추가\n",
    "def sol(n, c=1):\n",
    "    if c == 10:\n",
    "        return n,c\n",
    "    return sol(n-1, c+1)\n",
    "print(sol(3))\n",
    "\n",
    "def ssol(n, c=[]):\n",
    "    if len(c) == 10:\n",
    "        return c\n",
    "    c.append(n)\n",
    "    return ssol(n-1, c)\n",
    "\n",
    "ssol(3)"
   ]
  }
 ],
 "metadata": {
  "kernelspec": {
   "display_name": "Python 3",
   "language": "python",
   "name": "python3"
  },
  "language_info": {
   "codemirror_mode": {
    "name": "ipython",
    "version": 3
   },
   "file_extension": ".py",
   "mimetype": "text/x-python",
   "name": "python",
   "nbconvert_exporter": "python",
   "pygments_lexer": "ipython3",
   "version": "3.13.3"
  }
 },
 "nbformat": 4,
 "nbformat_minor": 5
}
