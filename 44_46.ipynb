{
  "nbformat": 4,
  "nbformat_minor": 0,
  "metadata": {
    "colab": {
      "provenance": []
    },
    "kernelspec": {
      "name": "python3",
      "display_name": "Python 3"
    },
    "language_info": {
      "name": "python"
    }
  },
  "cells": [
    {
      "cell_type": "code",
      "execution_count": null,
      "metadata": {
        "colab": {
          "base_uri": "https://localhost:8080/"
        },
        "id": "pVn1JVpQ_km0",
        "outputId": "bcdc2bcc-1ea6-48ac-c10a-1835fe674246"
      },
      "outputs": [
        {
          "output_type": "execute_result",
          "data": {
            "text/plain": [
              "55"
            ]
          },
          "metadata": {},
          "execution_count": 2
        }
      ],
      "source": [
        "# 44\n",
        "def sol(k):\n",
        "  if k == 1:\n",
        "    return 1\n",
        "  return sol(k-1) + k\n",
        "\n",
        "sol(10)"
      ]
    },
    {
      "cell_type": "code",
      "source": [
        "# 45\n",
        "def sol(k):\n",
        "  if k == 1:\n",
        "    return 1\n",
        "  return sol(k-1) * k\n",
        "\n",
        "sol(10)"
      ],
      "metadata": {
        "colab": {
          "base_uri": "https://localhost:8080/"
        },
        "id": "2a-kpTJMAfTd",
        "outputId": "6bdd7fa8-bdc3-4409-e06c-d0fc873d1faa"
      },
      "execution_count": null,
      "outputs": [
        {
          "output_type": "execute_result",
          "data": {
            "text/plain": [
              "3628800"
            ]
          },
          "metadata": {},
          "execution_count": 3
        }
      ]
    },
    {
      "cell_type": "code",
      "source": [
        "# 46_1\n",
        "def sol(k):\n",
        "  if k == 1:\n",
        "    return 1\n",
        "  print(k)\n",
        "  return sol(k-1)\n",
        "\n",
        "sol(10)"
      ],
      "metadata": {
        "colab": {
          "base_uri": "https://localhost:8080/"
        },
        "id": "DaUR9sdlAoFm",
        "outputId": "036a2fcc-9341-4192-d0e9-c3c6d3ec9911"
      },
      "execution_count": null,
      "outputs": [
        {
          "output_type": "stream",
          "name": "stdout",
          "text": [
            "10\n",
            "9\n",
            "8\n",
            "7\n",
            "6\n",
            "5\n",
            "4\n",
            "3\n",
            "2\n"
          ]
        },
        {
          "output_type": "execute_result",
          "data": {
            "text/plain": [
              "1"
            ]
          },
          "metadata": {},
          "execution_count": 9
        }
      ]
    },
    {
      "cell_type": "code",
      "source": [
        "# 46_1\n",
        "n = 10\n",
        "\n",
        "def sol(k):\n",
        "  if k == 1:\n",
        "    return 10\n",
        "  print(n - k + 1)\n",
        "  return sol(k-1)\n",
        "\n",
        "sol(n)"
      ],
      "metadata": {
        "colab": {
          "base_uri": "https://localhost:8080/"
        },
        "id": "r8ugtkvrA9tF",
        "outputId": "be455792-b225-4b2c-8d3a-d97134e47c87"
      },
      "execution_count": null,
      "outputs": [
        {
          "output_type": "stream",
          "name": "stdout",
          "text": [
            "1\n",
            "2\n",
            "3\n",
            "4\n",
            "5\n",
            "6\n",
            "7\n",
            "8\n",
            "9\n"
          ]
        },
        {
          "output_type": "execute_result",
          "data": {
            "text/plain": [
              "10"
            ]
          },
          "metadata": {},
          "execution_count": 13
        }
      ]
    }
  ]
}