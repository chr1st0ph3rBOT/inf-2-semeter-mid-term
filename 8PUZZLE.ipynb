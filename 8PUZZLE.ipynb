{
 "cells": [
  {
   "cell_type": "code",
   "execution_count": 1,
   "id": "fe6da359",
   "metadata": {},
   "outputs": [],
   "source": [
    "#63 8-puzzle\n",
    "def search_index(p, k):\n",
    "    for i in range(3):\n",
    "        for j in range(3):\n",
    "            if p[i][j] == k:\n",
    "                return i, j  "
   ]
  },
  {
   "cell_type": "code",
   "execution_count": 2,
   "id": "69f27c5f",
   "metadata": {},
   "outputs": [],
   "source": [
    "p = [[1,2,3],\n",
    "     [4,'#',5],\n",
    "     [6,7,8]]"
   ]
  },
  {
   "cell_type": "code",
   "execution_count": 3,
   "id": "c8a58b32",
   "metadata": {},
   "outputs": [],
   "source": [
    "def is_it_possible_up(p, x, y):\n",
    "    try:\n",
    "        p[x - 1][y]\n",
    "    except:\n",
    "        return False\n",
    "    return True\n",
    "\n",
    "def is_it_possible_down(p, x, y):\n",
    "    try:\n",
    "        p[x + 1][y]\n",
    "    except:\n",
    "        return False\n",
    "    return True\n",
    "\n",
    "def is_it_possible_left(p, x, y):\n",
    "    try:\n",
    "        p[x][y - 1]\n",
    "    except:\n",
    "        return False\n",
    "    return True\n",
    "\n",
    "def is_it_possible_right(p, x, y):\n",
    "    try:\n",
    "        p[x][y + 1]\n",
    "    except:\n",
    "        return False\n",
    "    return True"
   ]
  },
  {
   "cell_type": "code",
   "execution_count": 4,
   "id": "3b53c4d0",
   "metadata": {},
   "outputs": [],
   "source": [
    "def up(p):\n",
    "    x, y = search_index(p, '#')  # type: ignore\n",
    "    if is_it_possible_up(p, x, y):\n",
    "        p[x][y], p[x -1][y] = p[x - 1][y], p[x][y]\n",
    "        return p\n",
    "    return 0\n",
    "def down(p):\n",
    "    x, y = search_index(p, '#')  # type: ignore\n",
    "    if is_it_possible_down(p, x, y):\n",
    "        p[x][y], p[x +1][y] = p[x + 1][y], p[x][y]\n",
    "        return p\n",
    "    return 0\n",
    "def left(p):\n",
    "    x, y = search_index(p, '#')  # type: ignore\n",
    "    if is_it_possible_left(p, x, y):\n",
    "        p[x][y], p[x][y - 1] = p[x][y - 1], p[x][y]\n",
    "        return p\n",
    "    return 0\n",
    "def right(p):\n",
    "    x, y = search_index(p, '#')  # type: ignore\n",
    "    if is_it_possible_right(p, x, y):\n",
    "        p[x][y], p[x][y + 1] = p[x][y + 1], p[x][y]\n",
    "        return p\n",
    "    return 0\n"
   ]
  },
  {
   "cell_type": "code",
   "execution_count": 5,
   "id": "554d518a",
   "metadata": {},
   "outputs": [
    {
     "name": "stdout",
     "output_type": "stream",
     "text": [
      "[[1, 2, 3], [4, '#', 5], [6, 7, 8]]\n",
      "[[1, '#', 3], [4, 2, 5], [6, 7, 8]]\n",
      "[[1, 2, 3], [4, '#', 5], [6, 7, 8]]\n",
      "[[1, 2, 3], ['#', 4, 5], [6, 7, 8]]\n",
      "[[1, 2, 3], [4, '#', 5], [6, 7, 8]]\n"
     ]
    }
   ],
   "source": [
    "print(p)\n",
    "print(up(p))\n",
    "print(down(p))\n",
    "print(left(p))\n",
    "print(right(p))"
   ]
  },
  {
   "cell_type": "code",
   "execution_count": null,
   "id": "6cfd49e0",
   "metadata": {},
   "outputs": [
    {
     "ename": "TypeError",
     "evalue": "'int' object is not subscriptable",
     "output_type": "error",
     "traceback": [
      "\u001b[31m---------------------------------------------------------------------------\u001b[39m",
      "\u001b[31mTypeError\u001b[39m                                 Traceback (most recent call last)",
      "\u001b[36mCell\u001b[39m\u001b[36m \u001b[39m\u001b[32mIn[6]\u001b[39m\u001b[32m, line 37\u001b[39m\n\u001b[32m     34\u001b[39m                 \u001b[38;5;28;01mif\u001b[39;00m \u001b[38;5;28mnext\u001b[39m \u001b[38;5;129;01mis\u001b[39;00m \u001b[38;5;129;01mnot\u001b[39;00m \u001b[38;5;28;01mNone\u001b[39;00m \u001b[38;5;129;01mand\u001b[39;00m \u001b[38;5;28mnext\u001b[39m \u001b[38;5;129;01mnot\u001b[39;00m \u001b[38;5;129;01min\u001b[39;00m visit:\n\u001b[32m     35\u001b[39m                     q.append(\u001b[38;5;28mnext\u001b[39m)\n\u001b[32m---> \u001b[39m\u001b[32m37\u001b[39m \u001b[43mbfs\u001b[49m\u001b[43m(\u001b[49m\u001b[43mp\u001b[49m\u001b[43m,\u001b[49m\u001b[43m \u001b[49m\u001b[43mtarget\u001b[49m\u001b[43m)\u001b[49m\n",
      "\u001b[36mCell\u001b[39m\u001b[36m \u001b[39m\u001b[32mIn[6]\u001b[39m\u001b[32m, line 22\u001b[39m, in \u001b[36mbfs\u001b[39m\u001b[34m(p, target)\u001b[39m\n\u001b[32m     20\u001b[39m     \u001b[38;5;28;01mreturn\u001b[39;00m visit\n\u001b[32m     21\u001b[39m \u001b[38;5;28;01melse\u001b[39;00m:\n\u001b[32m---> \u001b[39m\u001b[32m22\u001b[39m     x, y = \u001b[43msearch_index\u001b[49m\u001b[43m(\u001b[49m\u001b[43mnow\u001b[49m\u001b[43m,\u001b[49m\u001b[43m \u001b[49m\u001b[33;43m'\u001b[39;49m\u001b[33;43m#\u001b[39;49m\u001b[33;43m'\u001b[39;49m\u001b[43m)\u001b[49m \u001b[38;5;66;03m# type: ignore\u001b[39;00m\n\u001b[32m     24\u001b[39m     \u001b[38;5;28;01mfor\u001b[39;00m i \u001b[38;5;129;01min\u001b[39;00m \u001b[38;5;28mrange\u001b[39m(\u001b[32m4\u001b[39m):\n\u001b[32m     25\u001b[39m         \u001b[38;5;28;01mif\u001b[39;00m i == \u001b[32m0\u001b[39m:\n",
      "\u001b[36mCell\u001b[39m\u001b[36m \u001b[39m\u001b[32mIn[1]\u001b[39m\u001b[32m, line 5\u001b[39m, in \u001b[36msearch_index\u001b[39m\u001b[34m(p, k)\u001b[39m\n\u001b[32m      3\u001b[39m \u001b[38;5;28;01mfor\u001b[39;00m i \u001b[38;5;129;01min\u001b[39;00m \u001b[38;5;28mrange\u001b[39m(\u001b[32m3\u001b[39m):\n\u001b[32m      4\u001b[39m     \u001b[38;5;28;01mfor\u001b[39;00m j \u001b[38;5;129;01min\u001b[39;00m \u001b[38;5;28mrange\u001b[39m(\u001b[32m3\u001b[39m):\n\u001b[32m----> \u001b[39m\u001b[32m5\u001b[39m         \u001b[38;5;28;01mif\u001b[39;00m \u001b[43mp\u001b[49m\u001b[43m[\u001b[49m\u001b[43mi\u001b[49m\u001b[43m]\u001b[49m[j] == k:\n\u001b[32m      6\u001b[39m             \u001b[38;5;28;01mreturn\u001b[39;00m i, j\n",
      "\u001b[31mTypeError\u001b[39m: 'int' object is not subscriptable"
     ]
    }
   ],
   "source": [
    "import copy\n",
    "\n",
    "p = [[1,2,3],\n",
    "     [4,'#',5],\n",
    "     [6,7,8]]\n",
    "\n",
    "target = [[8,7,6],\n",
    "        [5,'#',4],\n",
    "        [3,2,1]]\n",
    "\n",
    "def bfs(p, target):\n",
    "    visit = []\n",
    "    q = [p]\n",
    "    while q is not None:\n",
    "        now = q.pop(0)\n",
    "\n",
    "        visit.append(now)\n",
    "\n",
    "        if now == target:\n",
    "            return visit\n",
    "        else:\n",
    "            x, y = search_index(now, '#') # type: ignore\n",
    "\n",
    "            for i in range(4):\n",
    "                if i == 0:\n",
    "                    next = up(copy.deepcopy(now))\n",
    "                elif i == 1:\n",
    "                    next = down(copy.deepcopy(now))\n",
    "                elif i == 2:\n",
    "                    next = left(copy.deepcopy(now))\n",
    "                elif i == 3:\n",
    "                    next = right(copy.deepcopy(now))\n",
    "                \n",
    "                if next is not None and next not in visit:\n",
    "                    q.append(next)\n",
    "\n",
    "bfs(p, target)"
   ]
  },
  {
   "cell_type": "code",
   "execution_count": null,
   "id": "bf8e11cd",
   "metadata": {},
   "outputs": [],
   "source": [
    "from collections import deque\n",
    "import copy\n",
    "\n",
    "start = [[1,2,3],\n",
    "         [4,'#',5],\n",
    "         [6,7,8]]\n",
    "\n",
    "target = [[8,7,6],\n",
    "          [5,'#',4],\n",
    "          [3,2,1]]\n",
    "\n",
    "# 빈칸 찾기\n",
    "def find_blank(p):\n",
    "    for i in range(3):\n",
    "        for j in range(3):\n",
    "            if p[i][j] == '#':\n",
    "                return i, j\n",
    "\n",
    "# 이웃 상태 생성\n",
    "def neighbors(p):\n",
    "    x, y = find_blank(p)\n",
    "    moves = [(-1,0), (1,0), (0,-1), (0,1)]\n",
    "    for dx, dy in moves:\n",
    "        nx, ny = x+dx, y+dy\n",
    "        if 0<=nx<3 and 0<=ny<3:\n",
    "            newp = copy.deepcopy(p)\n",
    "            newp[x][y], newp[nx][ny] = newp[nx][ny], newp[x][y]\n",
    "            yield newp\n",
    "\n",
    "def bfs(start, target):\n",
    "    q = deque([start])\n",
    "    visited = [start]\n",
    "    while q:\n",
    "        cur = q.popleft()\n",
    "        if cur == target:\n",
    "            return True\n",
    "        for nxt in neighbors(cur):\n",
    "            if nxt not in visited:\n",
    "                visited.append(nxt)\n",
    "                q.append(nxt)\n",
    "    return False\n",
    "\n",
    "print(bfs(start, target))\n"
   ]
  }
 ],
 "metadata": {
  "kernelspec": {
   "display_name": "Python 3",
   "language": "python",
   "name": "python3"
  },
  "language_info": {
   "codemirror_mode": {
    "name": "ipython",
    "version": 3
   },
   "file_extension": ".py",
   "mimetype": "text/x-python",
   "name": "python",
   "nbconvert_exporter": "python",
   "pygments_lexer": "ipython3",
   "version": "3.13.3"
  }
 },
 "nbformat": 4,
 "nbformat_minor": 5
}
